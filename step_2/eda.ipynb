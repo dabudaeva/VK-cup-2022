{
 "cells": [
  {
   "cell_type": "code",
   "execution_count": 2,
   "id": "2f034929-dac7-4163-aca5-cbe9c261c3dc",
   "metadata": {},
   "outputs": [],
   "source": [
    "from tqdm import tqdm\n",
    "import pandas as pd"
   ]
  },
  {
   "cell_type": "code",
   "execution_count": 3,
   "id": "090f091a-fd6c-4737-b8e0-5595ff468004",
   "metadata": {},
   "outputs": [],
   "source": [
    "train = pd.read_parquet('data/train.parquet.gzip')\n",
    "items_meta = pd.read_parquet(f'data/items_meta.parquet.gzip')\n",
    "candidates_df = pd.read_parquet(f'data/fresh_candidates.parquet.gzip')\n",
    "test = pd.read_parquet('data/test.parquet.gzip')"
   ]
  },
  {
   "cell_type": "code",
   "execution_count": null,
   "id": "da8e5a25-62f7-4cb8-8e03-5657e089dc47",
   "metadata": {},
   "outputs": [],
   "source": []
  }
 ],
 "metadata": {
  "kernelspec": {
   "display_name": "Python 3 (ipykernel)",
   "language": "python",
   "name": "python3"
  },
  "language_info": {
   "codemirror_mode": {
    "name": "ipython",
    "version": 3
   },
   "file_extension": ".py",
   "mimetype": "text/x-python",
   "name": "python",
   "nbconvert_exporter": "python",
   "pygments_lexer": "ipython3",
   "version": "3.10.6"
  }
 },
 "nbformat": 4,
 "nbformat_minor": 5
}
