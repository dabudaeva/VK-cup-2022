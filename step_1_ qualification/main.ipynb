{
 "cells": [
  {
   "cell_type": "code",
   "execution_count": 1,
   "id": "a8826ba2-5de1-467e-8c4c-f2771e061e71",
   "metadata": {},
   "outputs": [],
   "source": [
    "import numpy as np\n",
    "import pandas as pd\n",
    "import matplotlib.pyplot as plt"
   ]
  },
  {
   "cell_type": "code",
   "execution_count": 2,
   "id": "9188a35f-b84a-4e20-9fed-550eb6d34c86",
   "metadata": {},
   "outputs": [],
   "source": [
    "submission = pd.read_csv('step_1_ qualification/data/sample_submission.csv', index_col=0)\n",
    "data = pd.read_csv('step_1_ qualification/data/train.csv')\n",
    "valid = pd.read_csv('step_1_ qualification/data/test.csv')"
   ]
  },
  {
   "cell_type": "markdown",
   "id": "b141e71c-200d-40c9-a06e-630560abc0ff",
   "metadata": {},
   "source": [
    "# Preprocessing"
   ]
  },
  {
   "cell_type": "code",
   "execution_count": 3,
   "id": "dcf88386-7750-4d0f-b853-4b32b8892934",
   "metadata": {},
   "outputs": [],
   "source": [
    "import re\n",
    "import string\n",
    "import nltk\n",
    "\n",
    "from sklearn.preprocessing import LabelEncoder\n",
    "from sklearn.feature_extraction.text import TfidfVectorizer, CountVectorizer\n",
    "from sklearn.preprocessing import StandardScaler, RobustScaler"
   ]
  },
  {
   "cell_type": "code",
   "execution_count": 4,
   "id": "21679201-6a81-4b72-93ed-528ba536de45",
   "metadata": {},
   "outputs": [],
   "source": [
    "def clean(text):\n",
    "    text = text.lower() # нижний регистр\n",
    "    # text = re.sub(r'http\\S+', \" \", text) # удаляем ссылки\n",
    "    # text = re.sub(r'@\\w+',' ',text) # удаляем упоминания пользователей\n",
    "    # text = re.sub(r'#\\w+', ' ', text) # удаляем хэштеги\n",
    "    text = re.sub(r'\\d+', ' ', text) # удаляем числа\n",
    "    text = text.translate(str.maketrans('', '', string.punctuation))\n",
    "    # text = re.sub(r'<.*?>',' ', text) # \n",
    "    return text"
   ]
  },
  {
   "cell_type": "code",
   "execution_count": 5,
   "id": "c9f71274-b20b-4c93-9bb8-d3902dbfc5e3",
   "metadata": {},
   "outputs": [],
   "source": [
    "le = LabelEncoder()\n",
    "data['label'] = le.fit_transform(data.category)\n",
    "data['clean'] = data.text.apply(clean)\n",
    "valid['clean'] = valid.text.apply(clean)"
   ]
  },
  {
   "cell_type": "code",
   "execution_count": 6,
   "id": "3067da26-7dfb-462f-bde9-d5ae320acceb",
   "metadata": {},
   "outputs": [],
   "source": [
    "labels = data.reset_index()[['category', 'label']].drop_duplicates()\n",
    "labels.index = labels.label\n",
    "labels = labels.drop('label', axis=1).to_dict()['category']"
   ]
  },
  {
   "cell_type": "code",
   "execution_count": 7,
   "id": "0c68649a-318c-4f2b-8569-124d4fc99e30",
   "metadata": {
    "tags": []
   },
   "outputs": [],
   "source": [
    "from nltk.corpus import stopwords\n",
    "from nltk.stem.snowball import SnowballStemmer \n",
    "from nltk.tokenize import RegexpTokenizer"
   ]
  },
  {
   "cell_type": "code",
   "execution_count": 8,
   "id": "66fe28b8-ebcc-4fc7-8e5a-0b752a3b6d77",
   "metadata": {},
   "outputs": [],
   "source": [
    "sw = stopwords.words('russian')\n",
    "\n",
    "sw_removed = []\n",
    "for text in data.clean:\n",
    "    sw_removed.append(' '.join([word for word in text.split() if word not in sw]))"
   ]
  },
  {
   "cell_type": "code",
   "execution_count": 9,
   "id": "19d847e7-cefd-4d72-a1da-44e570b3e9ac",
   "metadata": {},
   "outputs": [],
   "source": [
    "stemmer = SnowballStemmer(\"russian\", ignore_stopwords=True)\n",
    "\n",
    "stemmed_text = []\n",
    "for text in sw_removed:\n",
    "    stemmed_text.append(' '.join([stemmer.stem(word) for word in text.split()]))"
   ]
  },
  {
   "cell_type": "code",
   "execution_count": 10,
   "id": "4a2529ff-3b76-4956-bdff-32447086c23c",
   "metadata": {},
   "outputs": [],
   "source": [
    "tokenizer = RegexpTokenizer('\\w+')\n",
    "tokenized_text = tokenizer.tokenize_sents(stemmed_text)"
   ]
  },
  {
   "cell_type": "code",
   "execution_count": 11,
   "id": "9eb4722c-a823-4a31-b0da-8c1a28bdf326",
   "metadata": {},
   "outputs": [],
   "source": [
    "clean_tokenized = [] \n",
    "for i, element in enumerate(tokenized_text):\n",
    "    clean_tokenized.append(' '.join([word for word in element]))"
   ]
  },
  {
   "cell_type": "code",
   "execution_count": 12,
   "id": "c66fb9f1-541f-42c9-bfcb-292b9d599472",
   "metadata": {},
   "outputs": [],
   "source": [
    "data['clean'] = clean_tokenized\n",
    "df = data.groupby(['oid','label'])['clean'].apply(lambda x: ','.join(x)).reset_index()"
   ]
  },
  {
   "cell_type": "code",
   "execution_count": 13,
   "id": "9c0641d7-b985-4f60-84dd-78a70621f50d",
   "metadata": {},
   "outputs": [],
   "source": [
    "cvec = CountVectorizer(ngram_range=(1, 1)).fit(df['clean'])\n",
    "tfid = TfidfVectorizer(ngram_range=(1, 1)).fit(df['clean'])\n",
    "\n",
    "cvec_train = cvec.transform(df['clean'])\n",
    "tfid_train = tfid.transform(df['clean'])"
   ]
  },
  {
   "cell_type": "code",
   "execution_count": 14,
   "id": "83f31386-bdf9-4f7b-bdcd-4e9ea340175b",
   "metadata": {},
   "outputs": [],
   "source": [
    "sw = stopwords.words('russian')\n",
    "sw_removed = []\n",
    "for text in valid.clean:\n",
    "    sw_removed.append(' '.join([word for word in text.split() if word not in sw]))\n",
    "    \n",
    "stemmer = SnowballStemmer(\"russian\", ignore_stopwords=True)\n",
    "stemmed_text = []\n",
    "for text in sw_removed:\n",
    "    stemmed_text.append(' '.join([stemmer.stem(word) for word in text.split()]))\n",
    "    \n",
    "tokenizer = RegexpTokenizer('\\w+')\n",
    "tokenized_text = tokenizer.tokenize_sents(stemmed_text)\n",
    "\n",
    "clean_tokenized = [] \n",
    "for i, element in enumerate(tokenized_text):\n",
    "    clean_tokenized.append(' '.join([word for word in element]))\n",
    "    \n",
    "valid['clean'] = clean_tokenized\n",
    "\n",
    "valid = valid.groupby('oid')['clean'].apply(lambda x: ','.join(x)).reset_index()\n",
    "\n",
    "cvec_test = cvec.transform(valid['clean'])\n",
    "tfid_test = tfid.transform(valid['clean'])"
   ]
  },
  {
   "cell_type": "code",
   "execution_count": 15,
   "id": "af1c2a88-0803-4747-b952-132c0952d97d",
   "metadata": {},
   "outputs": [],
   "source": [
    "scaler_cvec = StandardScaler(with_mean=False)\n",
    "scaler_tfid = StandardScaler(with_mean=False)\n",
    "scaler_cvec.fit(cvec_train)\n",
    "scaler_tfid.fit(tfid_train)\n",
    "cvec_train = scaler_cvec.transform(cvec_train)\n",
    "tfid_train = scaler_tfid.transform(tfid_train)\n",
    "cvec_test = scaler_cvec.transform(cvec_test)\n",
    "tfid_test = scaler_tfid.transform(tfid_test)"
   ]
  },
  {
   "cell_type": "markdown",
   "id": "87c7283c-9a56-490b-a973-69e6544d1652",
   "metadata": {},
   "source": [
    "# Modeling"
   ]
  },
  {
   "cell_type": "code",
   "execution_count": 16,
   "id": "5254e5cb-c325-4877-929a-901c7c7f4672",
   "metadata": {},
   "outputs": [],
   "source": [
    "from sklearn.linear_model import LogisticRegression\n",
    "from sklearn.neighbors import KNeighborsClassifier\n",
    "from sklearn.ensemble import RandomForestClassifier, GradientBoostingClassifier, StackingClassifier\n",
    "from lightgbm import LGBMClassifier\n",
    "from xgboost import XGBClassifier\n",
    "from catboost import CatBoostClassifier\n",
    "\n",
    "import optuna\n",
    "\n",
    "from sklearn.model_selection import train_test_split\n",
    "from sklearn.metrics import *\n",
    "\n",
    "import warnings\n",
    "warnings.simplefilter(action='ignore', category=FutureWarning)"
   ]
  },
  {
   "cell_type": "code",
   "execution_count": 17,
   "id": "ef957a99-2c2c-4242-8a26-5c17070e686d",
   "metadata": {},
   "outputs": [
    {
     "name": "stderr",
     "output_type": "stream",
     "text": [
      "/Users/aleksandrabudaeva/miniforge3/lib/python3.10/site-packages/sklearn/linear_model/_sag.py:350: ConvergenceWarning: The max_iter was reached which means the coef_ did not converge\n",
      "  warnings.warn(\n",
      "/Users/aleksandrabudaeva/miniforge3/lib/python3.10/site-packages/sklearn/linear_model/_sag.py:350: ConvergenceWarning: The max_iter was reached which means the coef_ did not converge\n",
      "  warnings.warn(\n"
     ]
    }
   ],
   "source": [
    "lr_cvec = LogisticRegression(penalty='l2',\n",
    "                             solver='sag', # sag, saga, newton-cg\n",
    "                             multi_class='multinomial', \n",
    "                             fit_intercept=True, \n",
    "                             warm_start=True, \n",
    "                             max_iter=300).fit(cvec_train, df.label)\n",
    "y_lr_cvec = lr_cvec.predict_proba(cvec_test)\n",
    "\n",
    "lr_tfid = LogisticRegression(penalty='l2',\n",
    "                             solver='sag', # sag, saga, newton-cg\n",
    "                             multi_class='multinomial', \n",
    "                             fit_intercept=True, \n",
    "                             warm_start=True, \n",
    "                             max_iter=300).fit(tfid_train, df.label)\n",
    "y_lr_tfid = lr_tfid.predict_proba(tfid_test)"
   ]
  },
  {
   "cell_type": "code",
   "execution_count": 18,
   "id": "cad328bb-923a-4889-81a5-d21f3b43c840",
   "metadata": {},
   "outputs": [],
   "source": [
    "rf_cvec = RandomForestClassifier(n_estimators = 1000,\n",
    "                                 criterion = 'log_loss',\n",
    "                                 max_depth = 15, \n",
    "                                 warm_start = True).fit(cvec_train, df.label)\n",
    "y_rf_cvec = rf_cvec.predict_proba(cvec_test)\n",
    "\n",
    "rf_tfid = RandomForestClassifier(n_estimators = 1000,\n",
    "                                 criterion = 'log_loss',\n",
    "                                 max_depth = 15, \n",
    "                                 warm_start = True).fit(tfid_train, df.label)\n",
    "y_rf_tfid = rf_tfid.predict_proba(tfid_test)"
   ]
  },
  {
   "cell_type": "code",
   "execution_count": 19,
   "id": "c8744987-94e9-4b98-a91c-031cbbd18c4e",
   "metadata": {
    "tags": []
   },
   "outputs": [
    {
     "name": "stdout",
     "output_type": "stream",
     "text": [
      "Learning rate set to 0.084785\n",
      "0:\tlearn: 0.3035622\ttotal: 966ms\tremaining: 16m 5s\n",
      "100:\tlearn: 0.9235932\ttotal: 1m 36s\tremaining: 14m 17s\n",
      "200:\tlearn: 0.9610222\ttotal: 3m 16s\tremaining: 13m 1s\n",
      "300:\tlearn: 0.9736706\ttotal: 4m 55s\tremaining: 11m 27s\n",
      "400:\tlearn: 0.9821890\ttotal: 6m 21s\tremaining: 9m 29s\n",
      "500:\tlearn: 0.9876097\ttotal: 7m 49s\tremaining: 7m 47s\n",
      "600:\tlearn: 0.9914817\ttotal: 9m 16s\tremaining: 6m 9s\n",
      "700:\tlearn: 0.9945792\ttotal: 10m 40s\tremaining: 4m 33s\n",
      "800:\tlearn: 0.9963862\ttotal: 12m 5s\tremaining: 3m\n",
      "900:\tlearn: 0.9981931\ttotal: 13m 29s\tremaining: 1m 28s\n",
      "999:\tlearn: 0.9989675\ttotal: 15m 11s\tremaining: 0us\n",
      "Learning rate set to 0.084785\n",
      "0:\tlearn: 0.3053691\ttotal: 4.32s\tremaining: 1h 11m 51s\n",
      "100:\tlearn: 0.9266908\ttotal: 4m 53s\tremaining: 43m 36s\n",
      "200:\tlearn: 0.9638616\ttotal: 9m 48s\tremaining: 39m\n",
      "300:\tlearn: 0.9765101\ttotal: 14m 40s\tremaining: 34m 4s\n",
      "400:\tlearn: 0.9852865\ttotal: 19m 49s\tremaining: 29m 37s\n",
      "500:\tlearn: 0.9917398\ttotal: 24m 29s\tremaining: 24m 24s\n",
      "600:\tlearn: 0.9961280\ttotal: 29m 34s\tremaining: 19m 37s\n",
      "700:\tlearn: 0.9976768\ttotal: 36m 2s\tremaining: 15m 22s\n",
      "800:\tlearn: 0.9984512\ttotal: 41m 13s\tremaining: 10m 14s\n",
      "900:\tlearn: 0.9997419\ttotal: 45m 32s\tremaining: 5m\n",
      "999:\tlearn: 1.0000000\ttotal: 47m 49s\tremaining: 0us\n"
     ]
    }
   ],
   "source": [
    "cb_cvec = CatBoostClassifier(eval_metric='Accuracy', verbose=100).fit(cvec_train, df.label)\n",
    "y_cb_cvec = cb_cvec.predict_proba(cvec_test)\n",
    "\n",
    "cb_tfid = CatBoostClassifier(eval_metric='Accuracy', verbose=100).fit(tfid_train, df.label)\n",
    "y_cb_tfid = cb_tfid.predict_proba(tfid_test)"
   ]
  },
  {
   "cell_type": "code",
   "execution_count": 20,
   "id": "b44b0f56-b152-4560-91cf-87ecd57886e0",
   "metadata": {},
   "outputs": [],
   "source": [
    "lgbm_cvec = LGBMClassifier(n_estimators=350, learning_rate=0.04, num_leaves=45, n_jobs=2).fit(cvec_train, df.label)\n",
    "y_lgbm_cvec = lgbm_cvec.predict_proba(cvec_test)\n",
    "\n",
    "lgbm_tfid = LGBMClassifier(n_estimators=350, learning_rate=0.04, num_leaves=45, n_jobs=2).fit(tfid_train, df.label)\n",
    "y_lgbm_tfid = lgbm_tfid.predict_proba(tfid_test)"
   ]
  },
  {
   "cell_type": "code",
   "execution_count": 21,
   "id": "9207b485-788c-4d77-9b7c-16ba98e18bdf",
   "metadata": {},
   "outputs": [],
   "source": [
    "xgb_cvec = XGBClassifier(n_estimators=300, max_depth=5, max_leaves=10, learning_rate=0.1).fit(cvec_train, df.label)\n",
    "y_xgb_cvec = xgb_cvec.predict_proba(cvec_test)\n",
    "\n",
    "xgb_tfid = XGBClassifier(n_estimators=300, max_depth=5, max_leaves=10, learning_rate=0.1).fit(tfid_train, df.label)\n",
    "y_xgb_tfid = xgb_tfid.predict_proba(tfid_test)"
   ]
  },
  {
   "cell_type": "markdown",
   "id": "43366372-1b85-4f48-bf10-daccf5599540",
   "metadata": {},
   "source": [
    "# Results"
   ]
  },
  {
   "cell_type": "code",
   "execution_count": 22,
   "id": "29dfba04-d6bd-4abe-815b-611cb7d0f865",
   "metadata": {},
   "outputs": [],
   "source": [
    "results = np.array([y_lr_cvec, y_lr_tfid, \n",
    "                    y_rf_cvec, y_rf_tfid, \n",
    "                    y_cb_cvec, y_cb_tfid,\n",
    "                    # y_lgbm_cvec, y_lgbm_tfid,\n",
    "                    # y_xgb_cvec, y_xgb_tfid\n",
    "                   ])"
   ]
  },
  {
   "cell_type": "code",
   "execution_count": 23,
   "id": "96bc4c3f-8d20-425c-9973-ce3fb4b1f29a",
   "metadata": {},
   "outputs": [],
   "source": [
    "results_r = np.array([np.mean(np.array([array[:,col] for array in results]), axis=0) for col in np.arange(13)])"
   ]
  },
  {
   "cell_type": "code",
   "execution_count": 31,
   "id": "722fb102-292d-4cf7-933a-a34f2e162fe7",
   "metadata": {},
   "outputs": [
    {
     "data": {
      "text/html": [
       "<div>\n",
       "<style scoped>\n",
       "    .dataframe tbody tr th:only-of-type {\n",
       "        vertical-align: middle;\n",
       "    }\n",
       "\n",
       "    .dataframe tbody tr th {\n",
       "        vertical-align: top;\n",
       "    }\n",
       "\n",
       "    .dataframe thead th {\n",
       "        text-align: right;\n",
       "    }\n",
       "</style>\n",
       "<table border=\"1\" class=\"dataframe\">\n",
       "  <thead>\n",
       "    <tr style=\"text-align: right;\">\n",
       "      <th></th>\n",
       "      <th>category</th>\n",
       "    </tr>\n",
       "    <tr>\n",
       "      <th>oid</th>\n",
       "      <th></th>\n",
       "    </tr>\n",
       "  </thead>\n",
       "  <tbody>\n",
       "    <tr>\n",
       "      <th>1622114</th>\n",
       "      <td>athletics</td>\n",
       "    </tr>\n",
       "    <tr>\n",
       "      <th>1663817</th>\n",
       "      <td>autosport</td>\n",
       "    </tr>\n",
       "    <tr>\n",
       "      <th>3174332</th>\n",
       "      <td>basketball</td>\n",
       "    </tr>\n",
       "    <tr>\n",
       "      <th>3469228</th>\n",
       "      <td>extreme</td>\n",
       "    </tr>\n",
       "    <tr>\n",
       "      <th>3905302</th>\n",
       "      <td>boardgames</td>\n",
       "    </tr>\n",
       "  </tbody>\n",
       "</table>\n",
       "</div>"
      ],
      "text/plain": [
       "           category\n",
       "oid                \n",
       "1622114   athletics\n",
       "1663817   autosport\n",
       "3174332  basketball\n",
       "3469228     extreme\n",
       "3905302  boardgames"
      ]
     },
     "execution_count": 31,
     "metadata": {},
     "output_type": "execute_result"
    }
   ],
   "source": [
    "my_submission = pd.DataFrame(np.argmax(results_r, axis=0), index=valid.oid, columns=['category'])\n",
    "my_submission['category'] = my_submission.category.map(labels)\n",
    "my_submission['prob'] = np.max(results_r, axis=0)\n",
    "my_submission = my_submission[my_submission.prob >= 0.20]\n",
    "my_submission = my_submission.drop('prob', axis=1)\n",
    "my_submission.to_csv('data/submission.csv')\n",
    "my_submission.head()"
   ]
  },
  {
   "cell_type": "markdown",
   "id": "bd2524b3-159d-42f4-ac9d-1c25c04f3bd6",
   "metadata": {},
   "source": [
    "# Testing"
   ]
  },
  {
   "cell_type": "code",
   "execution_count": 87,
   "id": "e8d23c36-8699-4742-895d-d4057d0e72cf",
   "metadata": {},
   "outputs": [],
   "source": [
    "X_train, X_test, y_train, y_test = train_test_split(cvec_train, df.label, test_size=0.2, random_state=42)"
   ]
  },
  {
   "cell_type": "code",
   "execution_count": 94,
   "id": "20724e5c-af09-4409-95de-0fdd9b821c7c",
   "metadata": {
    "collapsed": true,
    "jupyter": {
     "outputs_hidden": true
    },
    "tags": []
   },
   "outputs": [
    {
     "name": "stderr",
     "output_type": "stream",
     "text": [
      "\u001b[32m[I 2022-12-15 18:56:53,067]\u001b[0m A new study created in memory with name: no-name-7daacd37-ef91-4623-a398-d2e6ada15e9f\u001b[0m\n",
      "\u001b[32m[I 2022-12-15 18:57:09,908]\u001b[0m Trial 0 finished with value: 0.9303225806451613 and parameters: {'n_estimators': 74, 'max_depth': 7, 'max_leaves': 11, 'learning_rate': 0.07359422477809749}. Best is trial 0 with value: 0.9303225806451613.\u001b[0m\n",
      "\u001b[32m[I 2022-12-15 18:57:22,251]\u001b[0m Trial 1 finished with value: 0.8993548387096775 and parameters: {'n_estimators': 43, 'max_depth': 8, 'max_leaves': 19, 'learning_rate': 0.04459236920661935}. Best is trial 0 with value: 0.9303225806451613.\u001b[0m\n",
      "\u001b[32m[I 2022-12-15 18:57:53,504]\u001b[0m Trial 2 finished with value: 0.9380645161290323 and parameters: {'n_estimators': 114, 'max_depth': 9, 'max_leaves': 3, 'learning_rate': 0.06866709607835964}. Best is trial 2 with value: 0.9380645161290323.\u001b[0m\n",
      "\u001b[32m[I 2022-12-15 18:58:42,853]\u001b[0m Trial 3 finished with value: 0.9380645161290323 and parameters: {'n_estimators': 211, 'max_depth': 8, 'max_leaves': 6, 'learning_rate': 0.050330118108468304}. Best is trial 2 with value: 0.9380645161290323.\u001b[0m\n",
      "\u001b[32m[I 2022-12-15 18:58:45,639]\u001b[0m Trial 4 finished with value: 0.8890322580645161 and parameters: {'n_estimators': 28, 'max_depth': 3, 'max_leaves': 14, 'learning_rate': 0.08360815972616076}. Best is trial 2 with value: 0.9380645161290323.\u001b[0m\n",
      "\u001b[32m[I 2022-12-15 18:59:29,541]\u001b[0m Trial 5 finished with value: 0.9419354838709677 and parameters: {'n_estimators': 179, 'max_depth': 9, 'max_leaves': 11, 'learning_rate': 0.06175409905155163}. Best is trial 5 with value: 0.9419354838709677.\u001b[0m\n",
      "\u001b[32m[I 2022-12-15 19:00:20,282]\u001b[0m Trial 6 finished with value: 0.9419354838709677 and parameters: {'n_estimators': 237, 'max_depth': 14, 'max_leaves': 18, 'learning_rate': 0.07763421733913757}. Best is trial 5 with value: 0.9419354838709677.\u001b[0m\n",
      "\u001b[32m[I 2022-12-15 19:00:43,112]\u001b[0m Trial 7 finished with value: 0.9329032258064516 and parameters: {'n_estimators': 68, 'max_depth': 13, 'max_leaves': 13, 'learning_rate': 0.0801094824351914}. Best is trial 5 with value: 0.9419354838709677.\u001b[0m\n",
      "\u001b[32m[I 2022-12-15 19:00:55,855]\u001b[0m Trial 8 finished with value: 0.9083870967741936 and parameters: {'n_estimators': 29, 'max_depth': 19, 'max_leaves': 11, 'learning_rate': 0.03305316287731408}. Best is trial 5 with value: 0.9419354838709677.\u001b[0m\n",
      "\u001b[32m[I 2022-12-15 19:02:02,853]\u001b[0m Trial 9 finished with value: 0.9380645161290323 and parameters: {'n_estimators': 231, 'max_depth': 13, 'max_leaves': 18, 'learning_rate': 0.04021685703194167}. Best is trial 5 with value: 0.9419354838709677.\u001b[0m\n",
      "\u001b[32m[I 2022-12-15 19:02:30,364]\u001b[0m Trial 10 finished with value: 0.944516129032258 and parameters: {'n_estimators': 295, 'max_depth': 3, 'max_leaves': 8, 'learning_rate': 0.0998676849000078}. Best is trial 10 with value: 0.944516129032258.\u001b[0m\n",
      "\u001b[32m[I 2022-12-15 19:02:57,774]\u001b[0m Trial 11 finished with value: 0.944516129032258 and parameters: {'n_estimators': 289, 'max_depth': 3, 'max_leaves': 8, 'learning_rate': 0.09765492962307513}. Best is trial 10 with value: 0.944516129032258.\u001b[0m\n",
      "\u001b[32m[I 2022-12-15 19:03:26,016]\u001b[0m Trial 12 finished with value: 0.9458064516129032 and parameters: {'n_estimators': 300, 'max_depth': 3, 'max_leaves': 7, 'learning_rate': 0.09647378121118468}. Best is trial 12 with value: 0.9458064516129032.\u001b[0m\n",
      "\u001b[32m[I 2022-12-15 19:04:04,994]\u001b[0m Trial 13 finished with value: 0.9432258064516129 and parameters: {'n_estimators': 291, 'max_depth': 5, 'max_leaves': 7, 'learning_rate': 0.09911954895612755}. Best is trial 12 with value: 0.9458064516129032.\u001b[0m\n",
      "\u001b[32m[I 2022-12-15 19:04:42,747]\u001b[0m Trial 14 finished with value: 0.944516129032258 and parameters: {'n_estimators': 264, 'max_depth': 5, 'max_leaves': 4, 'learning_rate': 0.0903422381587892}. Best is trial 12 with value: 0.9458064516129032.\u001b[0m\n",
      "\u001b[32m[I 2022-12-15 19:05:27,454]\u001b[0m Trial 15 finished with value: 0.9419354838709677 and parameters: {'n_estimators': 185, 'max_depth': 18, 'max_leaves': 9, 'learning_rate': 0.09012138625265761}. Best is trial 12 with value: 0.9458064516129032.\u001b[0m\n",
      "\u001b[32m[I 2022-12-15 19:05:51,167]\u001b[0m Trial 16 finished with value: 0.9329032258064516 and parameters: {'n_estimators': 140, 'max_depth': 5, 'max_leaves': 5, 'learning_rate': 0.057550927509842836}. Best is trial 12 with value: 0.9458064516129032.\u001b[0m\n",
      "\u001b[32m[I 2022-12-15 19:06:32,517]\u001b[0m Trial 17 finished with value: 0.9406451612903226 and parameters: {'n_estimators': 258, 'max_depth': 6, 'max_leaves': 3, 'learning_rate': 0.08692078497902775}. Best is trial 12 with value: 0.9458064516129032.\u001b[0m\n",
      "\u001b[32m[I 2022-12-15 19:07:20,885]\u001b[0m Trial 18 finished with value: 0.9341935483870968 and parameters: {'n_estimators': 258, 'max_depth': 11, 'max_leaves': 5, 'learning_rate': 0.09256886094879561}. Best is trial 12 with value: 0.9458064516129032.\u001b[0m\n",
      "\u001b[32m[I 2022-12-15 19:08:17,250]\u001b[0m Trial 19 finished with value: 0.9432258064516129 and parameters: {'n_estimators': 264, 'max_depth': 17, 'max_leaves': 3, 'learning_rate': 0.07098469012920516}. Best is trial 12 with value: 0.9458064516129032.\u001b[0m\n"
     ]
    }
   ],
   "source": [
    "def objective(trial):\n",
    "    param_grid = {\n",
    "        'n_estimators': trial.suggest_int('n_estimators', 10, 300),\n",
    "        'max_depth': trial.suggest_int('max_depth', 3, 20),\n",
    "        'max_leaves': trial.suggest_int('max_leaves', 3, 20),\n",
    "        'learning_rate': trial.suggest_float('learning_rate', 0.03, 0.1),\n",
    "    }\n",
    "\n",
    "    model = XGBClassifier(**param_grid)\n",
    "    model.fit(X_train, y_train)\n",
    "    \n",
    "    return accuracy_score(y_test, model.predict(X_test))\n",
    "\n",
    "study_xgb = optuna.create_study(direction='maximize')\n",
    "study_xgb.optimize(objective, n_trials=20)"
   ]
  },
  {
   "cell_type": "code",
   "execution_count": 95,
   "id": "e912e354-0702-4162-9f9a-a679ac58a3b2",
   "metadata": {},
   "outputs": [
    {
     "data": {
      "text/plain": [
       "{'n_estimators': 300,\n",
       " 'max_depth': 3,\n",
       " 'max_leaves': 7,\n",
       " 'learning_rate': 0.09647378121118468}"
      ]
     },
     "execution_count": 95,
     "metadata": {},
     "output_type": "execute_result"
    }
   ],
   "source": [
    "study_xgb.best_params"
   ]
  },
  {
   "cell_type": "code",
   "execution_count": 96,
   "id": "7b30a1bf-7ff0-4c29-92b9-64e0fd52bd0d",
   "metadata": {
    "tags": []
   },
   "outputs": [
    {
     "name": "stdout",
     "output_type": "stream",
     "text": [
      "0.944516129032258\n"
     ]
    },
    {
     "data": {
      "image/png": "[encoded data removed]",
      "text/plain": [
       "<Figure size 640x480 with 2 Axes>"
      ]
     },
     "metadata": {},
     "output_type": "display_data"
    }
   ],
   "source": [
    "# 0.87\n",
    "model = XGBClassifier(n_estimators=300, max_depth=5, max_leaves=10, learning_rate=0.1).fit(X_train, y_train)\n",
    "\n",
    "print(accuracy_score(y_test, model.predict(X_test)))\n",
    "\n",
    "plot_confusion_matrix(model, X_test, y_test, cmap='Blues')\n",
    "plt.show()"
   ]
  }
 ],
 "metadata": {
  "kernelspec": {
   "display_name": "Python 3 (ipykernel)",
   "language": "python",
   "name": "python3"
  },
  "language_info": {
   "codemirror_mode": {
    "name": "ipython",
    "version": 3
   },
   "file_extension": ".py",
   "mimetype": "text/x-python",
   "name": "python",
   "nbconvert_exporter": "python",
   "pygments_lexer": "ipython3",
   "version": "3.10.6"
  }
 },
 "nbformat": 4,
 "nbformat_minor": 5
}
